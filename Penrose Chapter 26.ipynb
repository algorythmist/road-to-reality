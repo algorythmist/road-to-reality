{
 "cells": [
  {
   "cell_type": "markdown",
   "id": "0a1e7f99",
   "metadata": {},
   "source": [
    "# Road to Reality Chapter 26"
   ]
  },
  {
   "cell_type": "markdown",
   "id": "56d4a7f7",
   "metadata": {},
   "source": [
    "#### Define bras, kets, brackets\n",
    "$\n",
    "\\newcommand{\\ket}[1]{\\left|{#1}\\right\\rangle}\n",
    "\\newcommand{\\bra}[1]{\\left\\langle{#1}\\right|}\n",
    "\\newcommand{\\braket}[2]{\\left\\langle{#1}\\middle|{#2}\\right\\rangle}\n",
    "$"
   ]
  },
  {
   "cell_type": "markdown",
   "id": "d027fd6e-0342-4333-b371-aa0a0dc9b3c3",
   "metadata": {},
   "source": [
    "### Problem 26.1\n",
    "\n",
    "The notation that Penrose is using in this chapter is non-standard and confusing. The exercise is very easy if we use standard notation.\n",
    "\n",
    "Let $a_{k_1}^\\dagger$ represent the operator that ceates a particle in state $k_1$, so that\n",
    "\n",
    "$$\n",
    "a_{k_1}^\\dagger\\ket{0} = \\ket{k_1}\n",
    "$$\n",
    "\n",
    "Let $a_{k_1}$ be the corresponding annihilation operator. \n",
    "\n",
    "Remember the notation $\\braket{k_1,k_2}{\\phi} = \\phi(k_1,k_2)$\n",
    "\n",
    "Then\n",
    "\n",
    "$$\n",
    "\\phi(k_1,k_2) = \\braket{k_1,k_2}{\\phi} = \\overline{\\braket{\\phi}{k_1,k_2}} =  \\overline{\\bra{\\phi}a_{k_1}^\\dagger a_{k_2}^\\dagger\\ket{0}}\n",
    "$$\n",
    "\n",
    "If the $a_k$ commute, then this is equal to\n",
    "\n",
    "$$\n",
    "\\overline{\\bra{\\phi}a_{k_1}^\\dagger a_{k_2}^\\dagger\\ket{0}} = \\overline{\\bra{\\phi}a_{k_2}^\\dagger a_{k_1}^\\dagger\\ket{0}} =\n",
    "\\overline{\\braket{\\phi}{k_2,k_1}} = \\phi(k_2,k_1)\n",
    "$$\n",
    "\n",
    "If they anti-commute, then \n",
    "\n",
    "$$\n",
    "\\overline{\\bra{\\phi}a_{k_1}^\\dagger a_{k_2}^\\dagger\\ket{0}} = -\\overline{\\bra{\\phi}a_{k_2}^\\dagger a_{k_1}^\\dagger\\ket{0}} =\n",
    "-\\overline{\\braket{\\phi}{k_2,k_1}} = -\\phi(k_2,k_1)\n",
    "$$"
   ]
  },
  {
   "cell_type": "markdown",
   "id": "bf7244e4-6ba4-4516-b5f5-4a9fc89ee10e",
   "metadata": {},
   "source": [
    "### Problem 26.3\n",
    "\n",
    "From the previous section, after translating to standard notation, we have (for Fermions)\n",
    "\n",
    "$$\n",
    "a_{k_1}a_{k_2}^\\dagger + a_{k_2}^\\dagger a_{k_1} = i^k\\braket{k_1}{k_2}I\n",
    "$$\n",
    "\n",
    "$$\n",
    "a_{k_1}a_{k_2} + a_{k_2}a_{k_1} = 0\n",
    "$$\n",
    "\n",
    "$$\n",
    "a^\\dagger_{k_1}a^\\dagger_{k_2} + a^\\dagger_{k_2}a^\\dagger_{k_1} = 0\n",
    "$$\n",
    "\n",
    "We can transform to a basis where the $k_i$ are orthonormal to make the structure constants diagonal. The structure of the algebra is simple. For each $k$\n",
    "there are only two basis vectors, $\\gamma_1 = a_k, \\gamma_2 = a^\\dagger_k$, with $\\gamma_i^2 = 0$ and\n",
    "\n",
    "$$\n",
    "\\gamma_1\\gamma_2 + \\gamma_2\\gamma_1 = i^k I\n",
    "$$\n",
    "\n",
    "Symbols corresponding to different $k$ anti-commute."
   ]
  },
  {
   "cell_type": "markdown",
   "id": "999a1058-57a4-4fd1-8b01-cf23fc738cfd",
   "metadata": {},
   "source": [
    "### Problem 26.4\n",
    "\n",
    "Maxwell's equations in free space are linear, so its solutions form a vector space. "
   ]
  },
  {
   "cell_type": "code",
   "execution_count": null,
   "id": "7b56df38-15b7-4dc9-9cad-c2c76aa7ac27",
   "metadata": {},
   "outputs": [],
   "source": []
  }
 ],
 "metadata": {
  "kernelspec": {
   "display_name": "road-to-reality",
   "language": "python",
   "name": "road-to-reality"
  },
  "language_info": {
   "codemirror_mode": {
    "name": "ipython",
    "version": 3
   },
   "file_extension": ".py",
   "mimetype": "text/x-python",
   "name": "python",
   "nbconvert_exporter": "python",
   "pygments_lexer": "ipython3",
   "version": "3.11.6"
  },
  "latex_envs": {
   "LaTeX_envs_menu_present": true,
   "autoclose": false,
   "autocomplete": true,
   "bibliofile": "biblio.bib",
   "cite_by": "apalike",
   "current_citInitial": 1,
   "eqLabelWithNumbers": true,
   "eqNumInitial": 1,
   "hotkeys": {
    "equation": "Ctrl-E",
    "itemize": "Ctrl-I"
   },
   "labels_anchors": false,
   "latex_user_defs": false,
   "report_style_numbering": false,
   "user_envs_cfg": false
  },
  "widgets": {
   "application/vnd.jupyter.widget-state+json": {
    "state": {},
    "version_major": 2,
    "version_minor": 0
   }
  }
 },
 "nbformat": 4,
 "nbformat_minor": 5
}
