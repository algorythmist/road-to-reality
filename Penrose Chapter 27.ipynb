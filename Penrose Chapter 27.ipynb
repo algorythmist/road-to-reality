{
 "cells": [
  {
   "cell_type": "markdown",
   "id": "e4ed4e32-7073-41c0-8d80-8376129dd89a",
   "metadata": {},
   "source": [
    "# Road to Reality Chapter 27"
   ]
  },
  {
   "cell_type": "markdown",
   "id": "a641fff0-8c5a-4a21-9012-715e11511357",
   "metadata": {},
   "source": [
    "### Problem 27.1\n",
    "\n",
    "Show that QM momentum, as well as positive frequency functions, remain unchanged under a combined transformation $i \\rightarrow -i, t \\rightarrow -t$\n",
    "\n",
    "#### Solution\n",
    "\n",
    "$$\n",
    "p = -i\\hbar\\partial/\\partial t \\rightarrow -(-i) \\hbar\\partial/\\partial (-t) = -i\\hbar\\partial/\\partial t\n",
    "$$\n",
    "\n",
    "$$\n",
    "e^{-i\\omega t}  \\rightarrow e^{-(-i)\\omega (-t)} = e^{-i\\omega t}\n",
    "$$"
   ]
  },
  {
   "cell_type": "markdown",
   "id": "331ccde1-af9c-426a-bde9-c6350c49d83e",
   "metadata": {},
   "source": [
    "### Problem 27.3\n",
    "\n",
    "#### Solution\n",
    "\n",
    "Take a box of side $R$ and increase each side by $h$, where $h$ is small compared to $R$.\n",
    "Then the difference in entropy is proportional to\n",
    "\n",
    "$$\n",
    "\\ln(R+h)^3 - \\ln R^3 = 3\\ln((R+h)/R) = 3\\ln(1+h/R) \\approx 3R - 3/2 (h/R)^2 + \\ldots\n",
    "$$\n"
   ]
  },
  {
   "cell_type": "markdown",
   "id": "9cd4112d-d8df-43d2-ba1e-fcb74226c0bf",
   "metadata": {},
   "source": [
    "### Problem 27.8\n",
    "\n",
    "#### Solution\n",
    "\n",
    "This is essentially Fubini's theorem. The volume element of S1 is $\\Pi_i dp_1^i\\wedge dq_1^i$ and of S2 $\\Pi_j dp_2^j\\wedge dq_2^j$,\n",
    "so the combined system has volume elemnt element $\\Pi_{i,j} dp_1^i\\wedge dq_1^i\\wedge dp_2^j\\wedge dq_2^j$"
   ]
  },
  {
   "cell_type": "markdown",
   "id": "365698a3-cb51-46df-9fa7-05691e3325bc",
   "metadata": {},
   "source": [
    "### Problem 27.11\n",
    "\n",
    "#### Solution\n",
    "\n",
    "The potential energy of gravity is given by $V = -GM/r$ and the acceleration at the surface is given by $g = GM/R^2$.\n",
    "We equate the initial energy (kinetic + potential) with the final energy at hight h (just potential)\n",
    "\n",
    "\\begin{eqnarray}\n",
    "\\frac{1}{2}mv^2 -\\frac{GmM}{R} = -\\frac{GmM}{R+h} &\\implies& v^2 R(R+h)-2GM(R+h)+2GMR = 0\\\\\n",
    "&\\implies & v^2 R^2 +  v^2 Rh -2GMR - 2GMh +2GMR = 0\\\\\n",
    "&\\implies & h(v^2 R-2GM)+v^2 R^2 = 0\\\\\n",
    "&\\implies & h(v^2/R -2g)+v^2 = 0\\\\\n",
    "&\\implies & h = \\frac{v^2}{2g-v^2/R} = \\frac{v^2 R}{2gR-v^2}\n",
    "\\end{eqnarray}\n",
    "\n",
    "From which it follows the escape velocity is $v = \\sqrt{2gR} =  \\sqrt{2GM/R}$"
   ]
  },
  {
   "cell_type": "code",
   "execution_count": null,
   "id": "a849eb58-ecf0-45f9-a9fa-14eb79fac1df",
   "metadata": {},
   "outputs": [],
   "source": []
  }
 ],
 "metadata": {
  "kernelspec": {
   "display_name": "road-to-reality",
   "language": "python",
   "name": "road-to-reality"
  },
  "language_info": {
   "codemirror_mode": {
    "name": "ipython",
    "version": 3
   },
   "file_extension": ".py",
   "mimetype": "text/x-python",
   "name": "python",
   "nbconvert_exporter": "python",
   "pygments_lexer": "ipython3",
   "version": "3.11.6"
  }
 },
 "nbformat": 4,
 "nbformat_minor": 5
}
