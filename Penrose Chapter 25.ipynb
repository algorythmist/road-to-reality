{
 "cells": [
  {
   "cell_type": "markdown",
   "id": "0a1e7f99",
   "metadata": {},
   "source": [
    "# Road to Reality Chapter 25"
   ]
  },
  {
   "cell_type": "markdown",
   "id": "ff7dc000",
   "metadata": {},
   "source": [
    "## Diract Clifford Algebra\n",
    "\n",
    "$$\n",
    "\\gamma_0^2 = 1, \\gamma_i^2 = -1,\n",
    "$$\n",
    "\n",
    "$$\n",
    "\\{\\gamma_\\mu,\\gamma_\\nu\\} = 2\\eta_{\\mu\\nu}\n",
    "$$\n",
    "\n",
    "$$\n",
    "\\gamma_5 := -i \\gamma_0\\gamma_1\\gamma_2\\gamma_3\n",
    "$$\n",
    "\n",
    "Notation\n",
    "\n",
    "$$\n",
    "\\not{A} = \\gamma_\\mu A^\\mu\n",
    "$$\n",
    "\n",
    "$$\n",
    "\\square = \\partial_t^2 - \\nabla^2\n",
    "$$\n",
    "\n",
    "$$\n",
    "\\not{\\partial} := \\gamma^{\\mu}\\partial_{\\mu}\n",
    "$$"
   ]
  },
  {
   "cell_type": "markdown",
   "id": "56d4a7f7",
   "metadata": {},
   "source": [
    "#### Define bras, kets, brackets\n",
    "$\n",
    "\\newcommand{\\ket}[1]{\\left|{#1}\\right\\rangle}\n",
    "\\newcommand{\\bra}[1]{\\left\\langle{#1}\\right|}\n",
    "\\newcommand{\\braket}[2]{\\left\\langle{#1}\\middle|{#2}\\right\\rangle}\n",
    "$"
   ]
  },
  {
   "cell_type": "markdown",
   "id": "d62ee193",
   "metadata": {},
   "source": [
    "### Problem 25.2\n",
    "\n",
    "Show $\\gamma_5^2 = 1$ and $[\\gamma_5, \\gamma_\\mu] = - [\\gamma_\\mu,\\gamma_5] \\forall \\mu$\n",
    "\n",
    "#### Solution\n",
    "\n",
    "$$\n",
    "\\gamma_5^2 = -\\gamma_0\\gamma_1\\gamma_2\\gamma_3\\gamma_0\\gamma_1\\gamma_2\\gamma_3 = -(-1)^3 \\gamma_0^2\\gamma_1\\gamma_2\\gamma_3\\gamma_1\\gamma_2\\gamma_3 =\n",
    "\\gamma_1\\gamma_2\\gamma_3\\gamma_1\\gamma_2\\gamma_3 = (-1)^2 \\gamma_1^2\\gamma_2\\gamma_3\\gamma_2\\gamma_3 = -\\gamma_2\\gamma_3\\gamma_2\\gamma_3 = (-1)^2\\gamma_2^2\\gamma_3^2 = 1\n",
    "$$\n",
    "\n",
    "The other equation can be proven in the same manner by swapping gamma matrices."
   ]
  },
  {
   "cell_type": "code",
   "execution_count": null,
   "id": "bd175396-0a96-41cb-a75b-bd1a7a542303",
   "metadata": {},
   "outputs": [],
   "source": []
  }
 ],
 "metadata": {
  "kernelspec": {
   "display_name": "road-to-reality",
   "language": "python",
   "name": "road-to-reality"
  },
  "language_info": {
   "codemirror_mode": {
    "name": "ipython",
    "version": 3
   },
   "file_extension": ".py",
   "mimetype": "text/x-python",
   "name": "python",
   "nbconvert_exporter": "python",
   "pygments_lexer": "ipython3",
   "version": "3.11.6"
  },
  "latex_envs": {
   "LaTeX_envs_menu_present": true,
   "autoclose": false,
   "autocomplete": true,
   "bibliofile": "biblio.bib",
   "cite_by": "apalike",
   "current_citInitial": 1,
   "eqLabelWithNumbers": true,
   "eqNumInitial": 1,
   "hotkeys": {
    "equation": "Ctrl-E",
    "itemize": "Ctrl-I"
   },
   "labels_anchors": false,
   "latex_user_defs": false,
   "report_style_numbering": false,
   "user_envs_cfg": false
  },
  "widgets": {
   "application/vnd.jupyter.widget-state+json": {
    "state": {},
    "version_major": 2,
    "version_minor": 0
   }
  }
 },
 "nbformat": 4,
 "nbformat_minor": 5
}
