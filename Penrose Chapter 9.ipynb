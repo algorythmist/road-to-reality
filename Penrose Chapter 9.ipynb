{
 "cells": [
  {
   "cell_type": "markdown",
   "id": "46acd561",
   "metadata": {},
   "source": [
    "### Exercise 9.2\n",
    "\n",
    "If F is analytic on the unit circle, show that the Fourier coefficients are given by \n",
    "\n",
    "\\begin{equation}\n",
    "a_n = \\frac{1}{2i\\pi}\\oint z^{-n-1}F(z)dz \n",
    "\\end{equation}"
   ]
  },
  {
   "cell_type": "markdown",
   "id": "dbd5a2dc",
   "metadata": {},
   "source": [
    "#### Solution\n",
    "\n",
    "Using the Laurent series expansion for F:\n",
    "\n",
    "\\begin{equation}\n",
    "\\oint z^{-n-1}F(z)dz = \\sum_{k\\neq n}a_k\\oint z^{k-n-1}dz + a_n \\oint dz/z\n",
    "\\end{equation}\n",
    "\n",
    "The last integral computes to $2i\\pi$. \n",
    "For the others, we have \n",
    "$$\n",
    "\\oint \\frac{f(z)}{z^{n+1}}dz = 2i\\pi f^{(n)}(0)/n!\n",
    "$$\n",
    "where $f(z) = 1$, so they all evaluate to 0\n",
    "\n"
   ]
  },
  {
   "cell_type": "markdown",
   "id": "69f6a1c3",
   "metadata": {},
   "source": [
    "### Exercise 9.3\n",
    "\n",
    "\n",
    "$F^-(z)$ has a Taylor series expansion, so it determines an entire function on the extended Complex plane (i.e. Riemann sphere).\n",
    "The same is true for $F^+(z^{-1})$ which is the composition of $F^+$ with the hemisphere inversion mapping $w = z^{-1}$.\n"
   ]
  },
  {
   "cell_type": "markdown",
   "id": "ad689adb",
   "metadata": {},
   "source": [
    "### Exercise 9.4\n",
    "Which are the holomorphic mappings of the Riemann sphere that map each hemisphere to itself but do not preserve the north or south poles.\n",
    "\n",
    "#### Solution \n",
    "\n",
    "TODO\n"
   ]
  },
  {
   "cell_type": "markdown",
   "id": "8942722d",
   "metadata": {},
   "source": [
    "### Exercise 9.5\n",
    "\n",
    "Show that $t = tan\\frac{1}{2}x$ and $t = \\frac{z-1}{iz+i}$ are the same transformation\n",
    "on the unit circle $z = e^{ix}$\n",
    "\n",
    "#### Solution\n",
    "\n",
    "\\begin{eqnarray}\n",
    "t = \\frac{z-1}{iz+i} &= -i\\frac{e^{ix}-1}{e^{ix}+1} &= \\\\\n",
    "-i\\frac{(e^{ix}-1)e^{-ix/2}}{(e^{ix}+1)e^{-ix/2}} & = \\\\\n",
    "i\\frac{e^{ix/2}-e^{-ix/2}}{e^{ix/2}+e^{-ix/2}} &= \\\\\n",
    "\\frac{\\sin(x/2)}{\\cos(x/2)} = tan(x/2)\n",
    "\\end{eqnarray}"
   ]
  },
  {
   "cell_type": "markdown",
   "id": "7302d76a",
   "metadata": {},
   "source": [
    "### Exercise 9.6\n",
    "\n",
    "Fourier Transform:\n",
    "\n",
    "$$\n",
    "f(x) = \\frac{1}{2\\pi} \\int\\limits_{-\\infty}^{\\infty} g(p)e^{ixp}dp,\n",
    "g(p) = \\frac{1}{2\\pi} \\int\\limits_{-\\infty}^{\\infty} f(x)e^{-xp}dx\n",
    "$$\n",
    "\n",
    "Outline how to obtain $g(p)$ in terms of $f(x)$ using the result of exercise 9.2: \n",
    "\n",
    "$a_n = \\frac{1}{2i\\pi}\\oint z^{-n-1}F(z)dz$\n",
    "\n",
    "#### Solution\n",
    "\n",
    "TODO"
   ]
  },
  {
   "cell_type": "code",
   "execution_count": null,
   "id": "a20ad9b8",
   "metadata": {},
   "outputs": [],
   "source": []
  }
 ],
 "metadata": {
  "kernelspec": {
   "display_name": "physics-with-friends",
   "language": "python",
   "name": "physics-with-friends"
  },
  "language_info": {
   "codemirror_mode": {
    "name": "ipython",
    "version": 3
   },
   "file_extension": ".py",
   "mimetype": "text/x-python",
   "name": "python",
   "nbconvert_exporter": "python",
   "pygments_lexer": "ipython3",
   "version": "3.11.9"
  }
 },
 "nbformat": 4,
 "nbformat_minor": 5
}
