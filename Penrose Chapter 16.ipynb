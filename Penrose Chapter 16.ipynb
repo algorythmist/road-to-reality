{
 "cells": [
  {
   "cell_type": "markdown",
   "id": "595a8825",
   "metadata": {},
   "source": [
    "# Road to Reality Chapter 16"
   ]
  },
  {
   "cell_type": "markdown",
   "id": "c5145eab",
   "metadata": {},
   "source": [
    "### Problem 16.1 \n",
    "Show that $Z_p$ is a field under modular addition and multiplication if, and only if, p is a prime.\n",
    "\n",
    "### Solution\n",
    "\n",
    "$Z_n$ is an abelian group under addition whether $n$ is prime or not. So, we just need to show the existence (or absence) of inverses for multiplication.\n",
    "\n",
    "If $n = kl$ is a composite, then $kl = 0 \\mod n$, therefore it is not a field.\n",
    "\n",
    "On the other hand, if $p$ is prime, then any number $k < p$ is relatively prime to $p$, which means that $gcd(k,p) = 1$.\n",
    "There is theorem in number theory that establishes that the gcd is a linear combination. This means that there exist integers $m,n$ such that $nk+ mp = 1$, which means that $n$ is the multiplicative inverse of $k$/."
   ]
  },
  {
   "cell_type": "markdown",
   "id": "07035a7b",
   "metadata": {},
   "source": [
    "### Problem 16.2 \n",
    "Make complete addition and multiplication tables for $Z_4$\n",
    "\n",
    "TODO"
   ]
  },
  {
   "cell_type": "markdown",
   "id": "0f57a95d",
   "metadata": {},
   "source": [
    "### Problem 16.3\n",
    "Show that the projective space of dimension n, $\\mathbb{P}^n(Z_q)$ over the finite field $Z_q$ has exactly \n",
    "$1+q+q^2+\\ldots+q^n = (q^{n+1}-1)/(q-1)$ elements.\n",
    "\n",
    "TODO\n"
   ]
  },
  {
   "cell_type": "code",
   "execution_count": null,
   "id": "fe7e8acc-f27f-409d-acec-e831bba9baa8",
   "metadata": {},
   "outputs": [],
   "source": []
  }
 ],
 "metadata": {
  "kernelspec": {
   "display_name": "physics-with-friends",
   "language": "python",
   "name": "physics-with-friends"
  },
  "language_info": {
   "codemirror_mode": {
    "name": "ipython",
    "version": 3
   },
   "file_extension": ".py",
   "mimetype": "text/x-python",
   "name": "python",
   "nbconvert_exporter": "python",
   "pygments_lexer": "ipython3",
   "version": "3.11.9"
  },
  "widgets": {
   "application/vnd.jupyter.widget-state+json": {
    "state": {},
    "version_major": 2,
    "version_minor": 0
   }
  }
 },
 "nbformat": 4,
 "nbformat_minor": 5
}
