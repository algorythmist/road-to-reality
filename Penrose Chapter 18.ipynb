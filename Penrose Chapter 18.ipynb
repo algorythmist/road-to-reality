{
 "cells": [
  {
   "cell_type": "markdown",
   "id": "595a8825",
   "metadata": {},
   "source": [
    "# Road to Reality Chapter 18"
   ]
  },
  {
   "cell_type": "markdown",
   "id": "04e70f29",
   "metadata": {},
   "source": [
    "### Problem 18.1\n",
    "\n",
    "Define four coordinates $\\omega, \\xi, \\eta, \\zeta$.\n",
    "\n",
    "Let $CM$ denote 4D complex space. \n",
    "Let $E_4$ denote 4D Euclidean space, M Minkowski space with $\\omega$ real, $\\tilde{M}$ with $\\omega$ imaginary.\n",
    "\n",
    "Let $C$ denote complex conjugation $(C^2 = 1)$. Express C as a matrix for each subspace.\n",
    "\n",
    "#### Solution\n",
    "\n",
    "i) on $E_4$, $C = I$, the identity\n",
    "\n",
    "ii) on M, $C = diag(1,-1,-1,-1)$\n",
    "\n",
    "iii) on $\\tilde{M}$,  $C = diag(-1,1,1,1)$"
   ]
  },
  {
   "cell_type": "markdown",
   "id": "a83c824b",
   "metadata": {},
   "source": [
    "### Problem 18.3\n",
    "\n",
    "Examine the Lie Algebra of $O(4)$ and modify it to satisfy the Lorentz Group.\n",
    "\n",
    "TODO"
   ]
  },
  {
   "cell_type": "markdown",
   "id": "96dd5205-3d95-4154-b0ec-9fd9a9cd3185",
   "metadata": {},
   "source": [
    "### Problem 18.5\n",
    "\n",
    "i) Under what circumstances is it possible for a 3-plane element h to contain its normal in M? \n",
    "\n",
    "ii) Show that there are two distinct families of 2-planes that are the orthogonal complements\n",
    "of themselves in CE4, but neither of these families survives in M. (These so-called ‘self-dual’ and\n",
    "‘anti-self-dual’ complex 2-planes will have considerable importance later; see §32.2 and §33.11)\n",
    "\n",
    "#### Solution\n",
    "\n",
    "TODO\n"
   ]
  },
  {
   "cell_type": "markdown",
   "id": "74dc9784-8180-4a68-a2ef-a81bd5bcd4c8",
   "metadata": {},
   "source": [
    "### Problem 18.7\n",
    "\n",
    " Show why the hyperbolic straight lines are represented as straight in the ‘Klein’ case and\n",
    "by circles meeting the boundary orthogonally in the ‘Poincare´’ case, indicating, by use of a\n",
    "‘signature flip’, why this second case is indeed conformal.\n",
    "\n",
    "#### Solution\n",
    "\n",
    "TODO\n"
   ]
  },
  {
   "cell_type": "markdown",
   "id": "0cf5a276-b59d-4543-8d89-b01f7736ac04",
   "metadata": {},
   "source": [
    "### Problem 18.14\n",
    "\n",
    "Use conservation of energy and momentum to show that if a stationary billiard ball is\n",
    "hit by another of the same mass, then they emerge at right angles (assuming an elastic collision, so\n",
    "there is no conversion of kinetic energy to heat).\n",
    "#### Solution\n",
    "\n",
    "Assume the ball is traveling on the x-axis with velocity $v$. \n",
    "After the collision, the two balls have velocities $\\mathbf{v_1}$ and  $\\mathbf{v_2}$.\n",
    "\n",
    "From conservation of momentum we have $v_1^y = - v_2^y$ and $v_1^x + v_2^x = v$\n",
    "\n",
    "From the conservation of energy, we have\n",
    "\n",
    "$$\n",
    "\\mathbf{v_1}^2 + \\mathbf{v_2}^2 = v^2 \\implies (v_1^x)^2+(v_1^y)^2+(v_2^x)^2+(v_2^y)^2 = (v_1^x + v_2^x)^2\n",
    "$$\n",
    "\n",
    "Cancelling common terms we get\n",
    "\n",
    "$$\n",
    "(v_1^y)^2+(v_2^y)^2 = 2v_1^x v_2^x \\implies 2(v_1^y)^2 =2v_1^x v_2^x  \\implies (v_1^y)^2 = v_1^x v_2^x\n",
    "$$\n",
    "\n",
    "Where I used  $v_1^y = - v_2^y$. Now I use it once more to get\n",
    "\n",
    "$$\n",
    "v_1^x v_2^x = -v_1^y v_2^y \\implies v_1^x v_2^x + v_1^y v_2^y = 0 \\implies  \\mathbf{v_1}\\cdot\\mathbf{v_2} = 0\n",
    "$$"
   ]
  },
  {
   "cell_type": "code",
   "execution_count": null,
   "id": "78234c62-cda3-48c1-a91e-bc192f569263",
   "metadata": {},
   "outputs": [],
   "source": []
  }
 ],
 "metadata": {
  "kernelspec": {
   "display_name": "physics-with-friends",
   "language": "python",
   "name": "physics-with-friends"
  },
  "language_info": {
   "codemirror_mode": {
    "name": "ipython",
    "version": 3
   },
   "file_extension": ".py",
   "mimetype": "text/x-python",
   "name": "python",
   "nbconvert_exporter": "python",
   "pygments_lexer": "ipython3",
   "version": "3.11.9"
  },
  "widgets": {
   "application/vnd.jupyter.widget-state+json": {
    "state": {},
    "version_major": 2,
    "version_minor": 0
   }
  }
 },
 "nbformat": 4,
 "nbformat_minor": 5
}
